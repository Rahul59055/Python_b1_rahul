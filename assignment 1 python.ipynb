{
 "cells": [
  {
   "cell_type": "code",
   "execution_count": 23,
   "id": "72a5dbc6-e4ea-4f44-bf73-196b6d7129c0",
   "metadata": {},
   "outputs": [
    {
     "name": "stdout",
     "output_type": "stream",
     "text": [
      "Name: Rahul Kumar\n",
      "Course Name: MCA\n",
      "Python Version: 3.12.4 | packaged by Anaconda, Inc. | (main, Jun 18 2024, 15:03:56) [MSC v.1929 64 bit (AMD64)]\n"
     ]
    }
   ],
   "source": [
    "#Part 1 : Introduction to python\n",
    "    name = \"Rahul Kumar\"\n",
    "    course_name = \"MCA\"\n",
    "    python_version = sys.version\n",
    "    print(f\"Name: {name}\")\n",
    "    print(f\"Course Name: {course_name}\")\n",
    "    print(f\"Python Version: {python_version}\")"
   ]
  },
  {
   "cell_type": "code",
   "execution_count": 25,
   "id": "e0896553-a241-419e-ba82-5ad576c5a5a6",
   "metadata": {},
   "outputs": [
    {
     "name": "stdout",
     "output_type": "stream",
     "text": [
      "Hello, Python World!\n"
     ]
    }
   ],
   "source": [
    "print(\"Hello, Python World!\")"
   ]
  },
  {
   "cell_type": "code",
   "execution_count": 43,
   "id": "257440e0-425e-448b-b409-df98d42aac38",
   "metadata": {},
   "outputs": [
    {
     "name": "stdin",
     "output_type": "stream",
     "text": [
      "Enter first name: RAHUL\n",
      "Enter last name: KUMAR\n"
     ]
    }
   ],
   "source": [
    "#Part 2 : Basic Python Syntax\n",
    "# String Operations\n",
    "# Take user's first and last names as input\n",
    "first_name = input(\"Enter first name:\")\n",
    "last_name = input(\"Enter last name:\")"
   ]
  },
  {
   "cell_type": "code",
   "execution_count": 45,
   "id": "cbcdbd15-d49e-44a1-8605-61db7592daa0",
   "metadata": {},
   "outputs": [
    {
     "name": "stdout",
     "output_type": "stream",
     "text": [
      "KUMAR RAHUL\n"
     ]
    }
   ],
   "source": [
    "#Reversed order of the name and print them with a space in between\n",
    "print(f\"{last_name} {first_name}\")"
   ]
  },
  {
   "cell_type": "code",
   "execution_count": 49,
   "id": "2e0448f3-b7c0-4dd0-acc9-31289bc3a499",
   "metadata": {},
   "outputs": [
    {
     "name": "stdin",
     "output_type": "stream",
     "text": [
      "Enter a number: 28\n"
     ]
    }
   ],
   "source": [
    "# Numeric Data Types and Conversion Functions\n",
    "# Take input from the user\n",
    "input_number = input(\"Enter a number:\")"
   ]
  },
  {
   "cell_type": "code",
   "execution_count": 53,
   "id": "cf36a92e-f3c3-411a-aff8-9a93e9bbeb73",
   "metadata": {},
   "outputs": [
    {
     "name": "stdout",
     "output_type": "stream",
     "text": [
      "Integer value: 28\n",
      "Float value: 28.0\n",
      "Complex value: (28+0j)\n"
     ]
    }
   ],
   "source": [
    "#Convert the input to different numeric data types\n",
    "# Convert to integer\n",
    "try:\n",
    "    integer_value = int(input_number)\n",
    "except ValueError:\n",
    "    integer_value = \"Can't convert to integer\"\n",
    "\n",
    "# Convert to float\n",
    "try:\n",
    "    float_value = float(input_number)\n",
    "except ValueError:\n",
    "    float_value = \"Can't convert to float\"\n",
    "\n",
    "# Convert to complex\n",
    "try:\n",
    "    complex_value = complex(input_number)\n",
    "except ValueError:\n",
    "    complex_value = \"Can't convert to complex\"\n",
    "\n",
    "# Display the converted values\n",
    "print(f\"Integer value: {integer_value}\")\n",
    "print(f\"Float value: {float_value}\")\n",
    "print(f\"Complex value: {complex_value}\")"
   ]
  },
  {
   "cell_type": "code",
   "execution_count": 73,
   "id": "0eeae677-be96-4d89-bc52-f5ba476ca5bb",
   "metadata": {},
   "outputs": [
    {
     "name": "stdin",
     "output_type": "stream",
     "text": [
      "Enter the length of the rectangle: 12.50\n",
      "Entet the width of the rectangle: 20.50\n"
     ]
    }
   ],
   "source": [
    "#Simple Input abd Output\n",
    "# Take length and width as input from the user\n",
    "length = float(input(\"Enter the length of the rectangle:\"))\n",
    "width = float(input(\"Entet the width of the rectangle:\"))"
   ]
  },
  {
   "cell_type": "code",
   "execution_count": 101,
   "id": "498a4584-8bc8-48b1-b0cf-3a77739f0188",
   "metadata": {},
   "outputs": [
    {
     "name": "stdout",
     "output_type": "stream",
     "text": [
      "The area of the rectangle is:256.25 \n"
     ]
    }
   ],
   "source": [
    "# Calculate the area of the rectangle\n",
    "area = length*width\n",
    "print(f\"The area of the rectangle is:{area} \")"
   ]
  },
  {
   "cell_type": "code",
   "execution_count": 103,
   "id": "9046a7b0-8a51-4439-ab18-2771690265a1",
   "metadata": {},
   "outputs": [
    {
     "name": "stdin",
     "output_type": "stream",
     "text": [
      "Enter the length of the rectangle: 12.50\n",
      "Entet the width of the rectangle: 20.50\n"
     ]
    }
   ],
   "source": [
    "#Format method\n",
    "# Take length and width as input from the user\n",
    "length = float(input(\"Enter the length of the rectangle:\"))\n",
    "width = float(input(\"Entet the width of the rectangle:\"))"
   ]
  },
  {
   "cell_type": "code",
   "execution_count": 105,
   "id": "be462efa-d0ae-4140-9abb-701889883ad5",
   "metadata": {},
   "outputs": [
    {
     "name": "stdout",
     "output_type": "stream",
     "text": [
      "area of rectangle with length and width is: 256.25\n"
     ]
    }
   ],
   "source": [
    "# Calculate the area of the rectangle\n",
    "area = length*width\n",
    "#format area upto two decimal places\n",
    "format_area = \"{:.2f}\".format(area)\n",
    "print(f\"area of rectangle with length and width is: {format_area}\")"
   ]
  },
  {
   "cell_type": "code",
   "execution_count": 1,
   "id": "ce4f640c-b870-4fe9-92c2-ca94e5a58f7c",
   "metadata": {},
   "outputs": [
    {
     "name": "stdin",
     "output_type": "stream",
     "text": [
      "Enter the first number: 12.50\n",
      "Enter the second number: 23.0\n",
      "Enter the third number: 54.90\n"
     ]
    },
    {
     "name": "stdout",
     "output_type": "stream",
     "text": [
      "The average of the three numbers is: 30.13\n"
     ]
    }
   ],
   "source": [
    "# The % Method and print function\n",
    "#Take three numbers as input from the user\n",
    "x = float(input(\"Enter the first number:\"))\n",
    "y = float(input(\"Enter the second number:\"))\n",
    "z = float(input(\"Enter the third number:\"))\n",
    "#Calculate the average of three numbers\n",
    "average = (x + y + z)/3\n",
    "\n",
    "#display the result using the % formatting method\n",
    "print(\"The average of the three numbers is: %.2f\" % average)"
   ]
  },
  {
   "cell_type": "code",
   "execution_count": 1,
   "id": "3f7c560d-b271-46ef-8b50-dd79c68a825c",
   "metadata": {},
   "outputs": [
    {
     "name": "stdin",
     "output_type": "stream",
     "text": [
      "Enter any number 34\n"
     ]
    },
    {
     "name": "stdout",
     "output_type": "stream",
     "text": [
      "34 is positive\n"
     ]
    }
   ],
   "source": [
    "#Part3: Language Components\n",
    "# control Flow (if Statements and Loops\n",
    "x = int(input(\"Enter any number\")) ##taking any number from user\n",
    "if(x > 0):\n",
    "    print(f\"{x} is positive\") ##display if num is positive\n",
    "elif(x < 0):\n",
    "    print(f\"{x} is negative\") ##display if num is negative\n",
    "else:\n",
    "    print(f\"{x} is equal to zero\") ## display if num is zero"
   ]
  },
  {
   "cell_type": "code",
   "execution_count": 1,
   "id": "995b28e3-9860-4ab2-83ed-389ec45b80f7",
   "metadata": {},
   "outputs": [
    {
     "name": "stdin",
     "output_type": "stream",
     "text": [
      "enter any number (or type 'exit' to stop) 12\n"
     ]
    },
    {
     "name": "stdout",
     "output_type": "stream",
     "text": [
      "you entered the number: 12\n"
     ]
    },
    {
     "name": "stdin",
     "output_type": "stream",
     "text": [
      "enter any number (or type 'exit' to stop) exit\n"
     ]
    },
    {
     "name": "stdout",
     "output_type": "stream",
     "text": [
      "exiting the loop\n"
     ]
    }
   ],
   "source": [
    "while True: ##this loop is an infinte loop\n",
    "    user_input = input(\"enter any number (or type 'exit' to stop)\")\n",
    "    \n",
    "    if(user_input.lower() == 'exit'): ##check if user enter 'exit' in lower case\n",
    "        print(\"exiting the loop\")\n",
    "        break #to exit the loop\n",
    "    \n",
    "    else: ## continue the loop if exit is not entered\n",
    "        num = int(user_input)\n",
    "        print(f\"you entered the number: {num}\")\n",
    "        continue # prompt for a new number if the input is not 'exit'"
   ]
  },
  {
   "cell_type": "code",
   "execution_count": 3,
   "id": "db879244-2887-4d1d-ac71-28a0bd22b5b7",
   "metadata": {},
   "outputs": [
    {
     "name": "stdin",
     "output_type": "stream",
     "text": [
      "Enter the first number: 12\n",
      "Enter the second number: 25\n"
     ]
    },
    {
     "name": "stdout",
     "output_type": "stream",
     "text": [
      "One number is even and the other is odd.\n"
     ]
    }
   ],
   "source": [
    "# Take two numbers as input from the user\n",
    "num1 = int(input(\"Enter the first number:\"))\n",
    "num2 = int(input(\"Enter the second number:\"))\n",
    "\n",
    "# Check if both numbers are even\n",
    "if num1 % 2 == 0 and num2 % 2 ==0 :\n",
    "    print(\"Both numbers are even.\")\n",
    "# Check if both numbers are odd\n",
    "elif num1 % 2 != 0 and num2 % 2 !=0 :\n",
    "    print(\"Both numbers are odd.\")\n",
    "# If neither of the above condition are true, then one is even and the other is odd\n",
    "else:\n",
    "    print(\"One number is even and the other is odd.\")"
   ]
  },
  {
   "cell_type": "code",
   "execution_count": 7,
   "id": "e5498519-54dc-4d9c-ae6c-0e93731c1754",
   "metadata": {},
   "outputs": [
    {
     "name": "stdin",
     "output_type": "stream",
     "text": [
      "enter any number 10\n"
     ]
    },
    {
     "name": "stdout",
     "output_type": "stream",
     "text": [
      "decimal to Binary conversion of 10 is:  1010\n",
      "decimal to octal conversion of 10 is:  12\n",
      "decimal to hexadecimal conversion of 10 is:  14\n"
     ]
    }
   ],
   "source": [
    "# function to convert into binary, octal, hexadecimal\n",
    "def conversion(num, base):\n",
    "    # Handle the special case where the number is 0\n",
    "    if num == 0:\n",
    "        return '0'\n",
    "    \n",
    "    digits = ''\n",
    "    \n",
    "    # Loop until num is reduced to 0\n",
    "    while(num > 0):\n",
    "        # Find the remainder of num divided by n (current least significant digit)\n",
    "        rem = num % base\n",
    "        # Prepend the remainder to the result string\n",
    "        digits = str(rem) + digits\n",
    "        num = num // base ## Update num to be the quotient of num divided by n (shift right by one digit)\n",
    "    \n",
    "    return digits\n",
    "    \n",
    "\n",
    "# Prompt the user to input a decimal number    \n",
    "num = int(input(\"enter any number\"))\n",
    "# Print the conversions of the number to binary, octal, and hexadecimal\n",
    "print(f\"decimal to Binary conversion of {num} is: \",conversion(num,2))\n",
    "print(f\"decimal to octal conversion of {num} is: \",conversion(num,8))\n",
    "print(f\"decimal to hexadecimal conversion of {num} is: \", conversion(num,6))"
   ]
  },
  {
   "cell_type": "code",
   "execution_count": null,
   "id": "26d5bf54-5081-4271-9780-5dad38c0ee8c",
   "metadata": {},
   "outputs": [],
   "source": []
  }
 ],
 "metadata": {
  "kernelspec": {
   "display_name": "Python 3 (ipykernel)",
   "language": "python",
   "name": "python3"
  },
  "language_info": {
   "codemirror_mode": {
    "name": "ipython",
    "version": 3
   },
   "file_extension": ".py",
   "mimetype": "text/x-python",
   "name": "python",
   "nbconvert_exporter": "python",
   "pygments_lexer": "ipython3",
   "version": "3.12.4"
  }
 },
 "nbformat": 4,
 "nbformat_minor": 5
}
